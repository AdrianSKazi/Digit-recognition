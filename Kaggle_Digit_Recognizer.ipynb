{
  "nbformat": 4,
  "nbformat_minor": 0,
  "metadata": {
    "colab": {
      "name": "Kaggle - Digit Recognizer.ipynb",
      "provenance": [],
      "toc_visible": true
    },
    "kernelspec": {
      "name": "python3",
      "display_name": "Python 3"
    },
    "language_info": {
      "name": "python"
    }
  },
  "cells": [
    {
      "cell_type": "markdown",
      "metadata": {
        "id": "0wEbb4oXmdTk"
      },
      "source": [
        "# Data import"
      ]
    },
    {
      "cell_type": "code",
      "metadata": {
        "id": "YWORQfPLmYqz"
      },
      "source": [
        "import pandas as pd"
      ],
      "execution_count": 51,
      "outputs": []
    },
    {
      "cell_type": "code",
      "metadata": {
        "id": "SCtLPiaMmoGc"
      },
      "source": [
        "test = pd.read_csv('test.csv')\n",
        "train = pd.read_csv('train.csv')"
      ],
      "execution_count": 52,
      "outputs": []
    },
    {
      "cell_type": "markdown",
      "metadata": {
        "id": "A_6oxwbc-GJg"
      },
      "source": [
        "# Split the dataset"
      ]
    },
    {
      "cell_type": "code",
      "metadata": {
        "id": "cuB7j-HDmyXH"
      },
      "source": [
        "X_train = train.iloc[:,1:] \n",
        "y_train = train.iloc[:,0]"
      ],
      "execution_count": 69,
      "outputs": []
    },
    {
      "cell_type": "markdown",
      "metadata": {
        "id": "Ey6jWfmQ-ISg"
      },
      "source": [
        "# Setting up the model"
      ]
    },
    {
      "cell_type": "code",
      "metadata": {
        "id": "PUcsE8nKq8gN"
      },
      "source": [
        "import tensorflow as tf\n",
        "from tensorflow import keras\n",
        "import numpy as np"
      ],
      "execution_count": 56,
      "outputs": []
    },
    {
      "cell_type": "code",
      "metadata": {
        "id": "uYFvkd3JFOPj"
      },
      "source": [
        "model = keras.Sequential([\n",
        "    keras.layers.Dense(556, activation = tf.nn.relu),\n",
        "    keras.layers.Dense(128, activation = tf.nn.relu), \n",
        "    keras.layers.Dense(128, activation = tf.nn.relu), \n",
        "    keras.layers.Dense(128, activation = tf.nn.relu), \n",
        "    keras.layers.Dense(128, activation = tf.nn.relu), \n",
        "    keras.layers.Dense(128, activation = tf.nn.relu), \n",
        "    keras.layers.Dense(128, activation = tf.nn.relu), \n",
        "    keras.layers.Dense(128, activation = tf.nn.relu), \n",
        "    keras.layers.Dense(128, activation = tf.nn.relu), \n",
        "    keras.layers.Dense(128, activation = tf.nn.relu), \n",
        "    keras.layers.Dense(10, activation = tf.nn.softmax)\n",
        "])"
      ],
      "execution_count": 204,
      "outputs": []
    },
    {
      "cell_type": "markdown",
      "metadata": {
        "id": "iwnOrXmr-NIt"
      },
      "source": [
        "## Compiling and fitting"
      ]
    },
    {
      "cell_type": "code",
      "metadata": {
        "colab": {
          "base_uri": "https://localhost:8080/"
        },
        "id": "N_rhf-5DuiDD",
        "outputId": "30504bc3-f24d-46f0-9bad-04507f64a8f5"
      },
      "source": [
        "model.compile(optimizer='adam', loss='sparse_categorical_crossentropy', metrics=['accuracy'])\n",
        "model.fit(X_train, y_train, epochs=20)"
      ],
      "execution_count": 205,
      "outputs": [
        {
          "output_type": "stream",
          "text": [
            "Epoch 1/20\n",
            "1313/1313 [==============================] - 12s 9ms/step - loss: 0.7028 - accuracy: 0.8130\n",
            "Epoch 2/20\n",
            "1313/1313 [==============================] - 11s 8ms/step - loss: 0.1970 - accuracy: 0.9462\n",
            "Epoch 3/20\n",
            "1313/1313 [==============================] - 11s 9ms/step - loss: 0.1407 - accuracy: 0.9639\n",
            "Epoch 4/20\n",
            "1313/1313 [==============================] - 11s 9ms/step - loss: 0.1331 - accuracy: 0.9680\n",
            "Epoch 5/20\n",
            "1313/1313 [==============================] - 12s 9ms/step - loss: 0.1038 - accuracy: 0.9744\n",
            "Epoch 6/20\n",
            "1313/1313 [==============================] - 11s 9ms/step - loss: 0.0902 - accuracy: 0.9787\n",
            "Epoch 7/20\n",
            "1313/1313 [==============================] - 11s 9ms/step - loss: 0.0909 - accuracy: 0.9771\n",
            "Epoch 8/20\n",
            "1313/1313 [==============================] - 12s 9ms/step - loss: 0.0768 - accuracy: 0.9823\n",
            "Epoch 9/20\n",
            "1313/1313 [==============================] - 15s 11ms/step - loss: 0.0748 - accuracy: 0.9830\n",
            "Epoch 10/20\n",
            "1313/1313 [==============================] - 12s 9ms/step - loss: 0.0658 - accuracy: 0.9864\n",
            "Epoch 11/20\n",
            "1313/1313 [==============================] - 11s 8ms/step - loss: 0.0685 - accuracy: 0.9845\n",
            "Epoch 12/20\n",
            "1313/1313 [==============================] - 11s 8ms/step - loss: 0.0642 - accuracy: 0.9849\n",
            "Epoch 13/20\n",
            "1313/1313 [==============================] - 11s 8ms/step - loss: 0.0530 - accuracy: 0.9894\n",
            "Epoch 14/20\n",
            "1313/1313 [==============================] - 11s 9ms/step - loss: 0.0487 - accuracy: 0.9900\n",
            "Epoch 15/20\n",
            "1313/1313 [==============================] - 11s 9ms/step - loss: 0.0413 - accuracy: 0.9912\n",
            "Epoch 16/20\n",
            "1313/1313 [==============================] - 11s 9ms/step - loss: 0.0491 - accuracy: 0.9897\n",
            "Epoch 17/20\n",
            "1313/1313 [==============================] - 11s 8ms/step - loss: 0.0469 - accuracy: 0.9899\n",
            "Epoch 18/20\n",
            "1313/1313 [==============================] - 11s 8ms/step - loss: 0.0505 - accuracy: 0.9890\n",
            "Epoch 19/20\n",
            "1313/1313 [==============================] - 11s 8ms/step - loss: 0.0431 - accuracy: 0.9905\n",
            "Epoch 20/20\n",
            "1313/1313 [==============================] - 11s 8ms/step - loss: 0.0493 - accuracy: 0.9894\n"
          ],
          "name": "stdout"
        },
        {
          "output_type": "execute_result",
          "data": {
            "text/plain": [
              "<tensorflow.python.keras.callbacks.History at 0x7f5a6125d990>"
            ]
          },
          "metadata": {
            "tags": []
          },
          "execution_count": 205
        }
      ]
    },
    {
      "cell_type": "markdown",
      "metadata": {
        "id": "qe5JywpI-RWK"
      },
      "source": [
        "## Predict"
      ]
    },
    {
      "cell_type": "code",
      "metadata": {
        "id": "g2sf8GmAzcfg"
      },
      "source": [
        "a = model.predict(test)"
      ],
      "execution_count": 206,
      "outputs": []
    },
    {
      "cell_type": "markdown",
      "metadata": {
        "id": "f7bICYj0-Tl6"
      },
      "source": [
        "## Creating solution file"
      ]
    },
    {
      "cell_type": "code",
      "metadata": {
        "id": "LJShXYvS5r6P"
      },
      "source": [
        "b = []\n",
        "\n",
        "for i in range(len(a)):\n",
        "  b.append(np.where(a[i] == a[i].max())[0][0])"
      ],
      "execution_count": 207,
      "outputs": []
    },
    {
      "cell_type": "code",
      "metadata": {
        "id": "ADD1xWnG8KPG"
      },
      "source": [
        "solution = pd.DataFrame()\n",
        "solution['Label'] = b\n",
        "solution['ImageId'] = solution.index + 1\n",
        "solution = solution[['ImageId','Label']]"
      ],
      "execution_count": 208,
      "outputs": []
    },
    {
      "cell_type": "code",
      "metadata": {
        "colab": {
          "base_uri": "https://localhost:8080/",
          "height": 419
        },
        "id": "LirKDWRV8w8w",
        "outputId": "5dee51e9-0739-4a43-cf61-0b7b6ce0a3c6"
      },
      "source": [
        "solution"
      ],
      "execution_count": 209,
      "outputs": [
        {
          "output_type": "execute_result",
          "data": {
            "text/html": [
              "<div>\n",
              "<style scoped>\n",
              "    .dataframe tbody tr th:only-of-type {\n",
              "        vertical-align: middle;\n",
              "    }\n",
              "\n",
              "    .dataframe tbody tr th {\n",
              "        vertical-align: top;\n",
              "    }\n",
              "\n",
              "    .dataframe thead th {\n",
              "        text-align: right;\n",
              "    }\n",
              "</style>\n",
              "<table border=\"1\" class=\"dataframe\">\n",
              "  <thead>\n",
              "    <tr style=\"text-align: right;\">\n",
              "      <th></th>\n",
              "      <th>ImageId</th>\n",
              "      <th>Label</th>\n",
              "    </tr>\n",
              "  </thead>\n",
              "  <tbody>\n",
              "    <tr>\n",
              "      <th>0</th>\n",
              "      <td>1</td>\n",
              "      <td>2</td>\n",
              "    </tr>\n",
              "    <tr>\n",
              "      <th>1</th>\n",
              "      <td>2</td>\n",
              "      <td>0</td>\n",
              "    </tr>\n",
              "    <tr>\n",
              "      <th>2</th>\n",
              "      <td>3</td>\n",
              "      <td>9</td>\n",
              "    </tr>\n",
              "    <tr>\n",
              "      <th>3</th>\n",
              "      <td>4</td>\n",
              "      <td>0</td>\n",
              "    </tr>\n",
              "    <tr>\n",
              "      <th>4</th>\n",
              "      <td>5</td>\n",
              "      <td>3</td>\n",
              "    </tr>\n",
              "    <tr>\n",
              "      <th>...</th>\n",
              "      <td>...</td>\n",
              "      <td>...</td>\n",
              "    </tr>\n",
              "    <tr>\n",
              "      <th>27995</th>\n",
              "      <td>27996</td>\n",
              "      <td>9</td>\n",
              "    </tr>\n",
              "    <tr>\n",
              "      <th>27996</th>\n",
              "      <td>27997</td>\n",
              "      <td>7</td>\n",
              "    </tr>\n",
              "    <tr>\n",
              "      <th>27997</th>\n",
              "      <td>27998</td>\n",
              "      <td>3</td>\n",
              "    </tr>\n",
              "    <tr>\n",
              "      <th>27998</th>\n",
              "      <td>27999</td>\n",
              "      <td>9</td>\n",
              "    </tr>\n",
              "    <tr>\n",
              "      <th>27999</th>\n",
              "      <td>28000</td>\n",
              "      <td>2</td>\n",
              "    </tr>\n",
              "  </tbody>\n",
              "</table>\n",
              "<p>28000 rows × 2 columns</p>\n",
              "</div>"
            ],
            "text/plain": [
              "       ImageId  Label\n",
              "0            1      2\n",
              "1            2      0\n",
              "2            3      9\n",
              "3            4      0\n",
              "4            5      3\n",
              "...        ...    ...\n",
              "27995    27996      9\n",
              "27996    27997      7\n",
              "27997    27998      3\n",
              "27998    27999      9\n",
              "27999    28000      2\n",
              "\n",
              "[28000 rows x 2 columns]"
            ]
          },
          "metadata": {
            "tags": []
          },
          "execution_count": 209
        }
      ]
    },
    {
      "cell_type": "code",
      "metadata": {
        "id": "rl_8VIiz9mfC"
      },
      "source": [
        "solution.to_csv('solution.csv',index=False)"
      ],
      "execution_count": 211,
      "outputs": []
    }
  ]
}